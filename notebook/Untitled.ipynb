{
 "cells": [
  {
   "cell_type": "code",
   "execution_count": 2,
   "metadata": {},
   "outputs": [],
   "source": [
    "from tqdm import tqdm_notebook as tqdm\n",
    "import matplotlib.pyplot as plt\n",
    "import statsmodels.api as sm\n",
    "import seaborn as sns\n",
    "import pandas as pd\n",
    "import numpy as np\n",
    "from sklearn.preprocessing import OneHotEncoder"
   ]
  },
  {
   "cell_type": "code",
   "execution_count": 3,
   "metadata": {},
   "outputs": [],
   "source": [
    "pd.set_option('display.max_rows', 100)\n",
    "pd.set_option('display.max_columns', 100)"
   ]
  },
  {
   "cell_type": "code",
   "execution_count": 4,
   "metadata": {},
   "outputs": [],
   "source": [
    "def solve_missing_value(df):\n",
    "    column_to_fill_with_na = [\"PoolQC\", \"MiscFeature\", \"Alley\", \"Fence\", \"FireplaceQu\",\n",
    "                          \"GarageType\", \"GarageYrBlt\", \"GarageFinish\", \"GarageQual\",\n",
    "                          \"GarageCond\", \"BsmtExposure\", \"BsmtFinType2\", \"BsmtQual\",\n",
    "                          \"BsmtQual\", \"BsmtCond\", \"BsmtFinType1\"]\n",
    "    columns_to_fill_with_mode = [\"Electrical\", \"MasVnrType\", \"GarageYrBlt\"]\n",
    "    columns_to_fill_with_median = [\"LotFrontage\", \"MasVnrArea\"]\n",
    "    \n",
    "    df[column_to_fill_with_na] = df[column_to_fill_with_na].fillna(\n",
    "    \"not available\")\n",
    "    for col in columns_to_fill_with_mode:\n",
    "        df[col] = df[col].mode()[0]\n",
    "    for col in columns_to_fill_with_median:\n",
    "        df[col] = df[col].mode()[0]\n",
    "    return df"
   ]
  },
  {
   "cell_type": "code",
   "execution_count": 9,
   "metadata": {},
   "outputs": [],
   "source": [
    "train_df = pd.read_csv(\"../data/train.csv\").drop([\"Id\"], axis = 1)\n",
    "train_df = solve_missing_value(train_df)\n",
    "\n",
    "\n",
    "test_df = pd.read_csv(\"../data/test.csv\")\n",
    "test_index = test_df.pop(\"Id\")\n",
    "test_df = solve_missing_value(test_df)"
   ]
  },
  {
   "cell_type": "markdown",
   "metadata": {},
   "source": [
    "# Missing Value Analysis"
   ]
  },
  {
   "cell_type": "code",
   "execution_count": 12,
   "metadata": {},
   "outputs": [],
   "source": [
    "temp = pd.DataFrame(test_df.isna().sum())"
   ]
  },
  {
   "cell_type": "code",
   "execution_count": 15,
   "metadata": {},
   "outputs": [
    {
     "name": "stdout",
     "output_type": "stream",
     "text": [
      "RL         1114\n",
      "RM          242\n",
      "FV           74\n",
      "C (all)      15\n",
      "RH           10\n",
      "Name: MSZoning, dtype: int64\n",
      "AllPub    1457\n",
      "Name: Utilities, dtype: int64\n",
      "VinylSd    510\n",
      "MetalSd    230\n",
      "HdBoard    220\n",
      "Wd Sdng    205\n",
      "Plywood    113\n",
      "CemntBd     65\n",
      "BrkFace     37\n",
      "WdShing     30\n",
      "AsbShng     24\n",
      "Stucco      18\n",
      "BrkComm      4\n",
      "CBlock       1\n",
      "AsphShn      1\n",
      "Name: Exterior1st, dtype: int64\n",
      "VinylSd    510\n",
      "MetalSd    233\n",
      "HdBoard    199\n",
      "Wd Sdng    194\n",
      "Plywood    128\n",
      "CmentBd     66\n",
      "Wd Shng     43\n",
      "BrkFace     22\n",
      "Stucco      21\n",
      "AsbShng     18\n",
      "Brk Cmn     15\n",
      "ImStucc      5\n",
      "CBlock       2\n",
      "Stone        1\n",
      "AsphShn      1\n",
      "Name: Exterior2nd, dtype: int64\n",
      "0.0       462\n",
      "24.0       15\n",
      "276.0       6\n",
      "602.0       6\n",
      "300.0       5\n",
      "         ... \n",
      "278.0       1\n",
      "210.0       1\n",
      "580.0       1\n",
      "1328.0      1\n",
      "771.0       1\n",
      "Name: BsmtFinSF1, Length: 669, dtype: int64\n",
      "0.0      1278\n",
      "162.0       3\n",
      "294.0       3\n",
      "483.0       3\n",
      "144.0       2\n",
      "         ... \n",
      "308.0       1\n",
      "167.0       1\n",
      "186.0       1\n",
      "250.0       1\n",
      "750.0       1\n",
      "Name: BsmtFinSF2, Length: 161, dtype: int64\n",
      "0.0       123\n",
      "384.0      11\n",
      "624.0       8\n",
      "480.0       7\n",
      "100.0       7\n",
      "         ... \n",
      "406.0       1\n",
      "1604.0      1\n",
      "1369.0      1\n",
      "549.0       1\n",
      "1211.0      1\n",
      "Name: BsmtUnfSF, Length: 793, dtype: int64\n",
      "0.0       41\n",
      "864.0     39\n",
      "960.0     13\n",
      "546.0     12\n",
      "672.0     12\n",
      "          ..\n",
      "918.0      1\n",
      "1910.0     1\n",
      "1700.0     1\n",
      "750.0      1\n",
      "1075.0     1\n",
      "Name: TotalBsmtSF, Length: 736, dtype: int64\n",
      "0.0    849\n",
      "1.0    584\n",
      "2.0     23\n",
      "3.0      1\n",
      "Name: BsmtFullBath, dtype: int64\n",
      "0.0    1364\n",
      "1.0      91\n",
      "2.0       2\n",
      "Name: BsmtHalfBath, dtype: int64\n",
      "TA    757\n",
      "Gd    565\n",
      "Ex    105\n",
      "Fa     31\n",
      "Name: KitchenQual, dtype: int64\n",
      "Typ     1357\n",
      "Min2      36\n",
      "Min1      34\n",
      "Mod       20\n",
      "Maj1       5\n",
      "Maj2       4\n",
      "Sev        1\n",
      "Name: Functional, dtype: int64\n",
      "2.0    770\n",
      "1.0    407\n",
      "3.0    193\n",
      "0.0     76\n",
      "4.0     11\n",
      "5.0      1\n",
      "Name: GarageCars, dtype: int64\n",
      "0.0      76\n",
      "576.0    50\n",
      "440.0    47\n",
      "484.0    34\n",
      "400.0    33\n",
      "         ..\n",
      "364.0     1\n",
      "369.0     1\n",
      "316.0     1\n",
      "226.0     1\n",
      "353.0     1\n",
      "Name: GarageArea, Length: 459, dtype: int64\n",
      "WD       1258\n",
      "New       117\n",
      "COD        44\n",
      "ConLD      17\n",
      "CWD         8\n",
      "ConLI       4\n",
      "Oth         4\n",
      "ConLw       3\n",
      "Con         3\n",
      "Name: SaleType, dtype: int64\n"
     ]
    }
   ],
   "source": [
    "for column in temp[temp[0] > 0].index:\n",
    "    print(test_df[column].value_counts())\n",
    "    "
   ]
  },
  {
   "cell_type": "code",
   "execution_count": null,
   "metadata": {},
   "outputs": [],
   "source": [
    "BsmtUnfSF, BsmtFinSF2"
   ]
  },
  {
   "cell_type": "code",
   "execution_count": null,
   "metadata": {},
   "outputs": [],
   "source": []
  },
  {
   "cell_type": "code",
   "execution_count": null,
   "metadata": {},
   "outputs": [],
   "source": []
  },
  {
   "cell_type": "markdown",
   "metadata": {},
   "source": [
    "# Categorical and Numeric Columns Identification"
   ]
  },
  {
   "cell_type": "code",
   "execution_count": 6,
   "metadata": {},
   "outputs": [],
   "source": [
    "columns = train_df.columns\n",
    "unique_values = train_df.nunique().values\n",
    "total_values = train_df.shape[0] - train_df.isna().sum().values\n",
    "unique_df = pd.DataFrame(zip(columns, unique_values, total_values),\n",
    "                         columns=[\"column_name\", \"unique_values\",\n",
    "                                  \"total_values\"])\n",
    "columns_to_drop = unique_df[unique_df[\"unique_values\"]==1][\"column_name\"].values.tolist()\n",
    "columns_to_drop += [\"Utilities\", \"Street\", \"Condition2\"]\n",
    "unique_df = unique_df[unique_df[\"unique_values\"]>1]\n",
    "train_df = train_df.drop(columns_to_drop, axis = 1)"
   ]
  },
  {
   "cell_type": "code",
   "execution_count": 7,
   "metadata": {},
   "outputs": [],
   "source": [
    "numeric_columns = [\"LotArea\", \"BsmtFinSF1\", \"BsmtFinSF2\", \"1stFlrSF\", \"2ndFlrSF\",\n",
    "                   \"LowQualFinSF\", \"GrLivArea\", \"GarageArea\", \"WoodDeckSF\",\n",
    "                   \"OpenPorchSF\", \"EnclosedPorch\", \"3SsnPorch\", \"ScreenPorch\", \"MiscVal\",\n",
    "                   \"YearBuilt\", \"YearRemodAdd\", \"GarageYrBlt\", \"MoSold\", \"SalePrice\",\n",
    "                  \"TotalBsmtSF\",\"BsmtUnfSF\"]\n",
    "categorical_columns = unique_df[~unique_df[\"column_name\"].isin(numeric_columns)][\"column_name\"].values"
   ]
  },
  {
   "cell_type": "code",
   "execution_count": 8,
   "metadata": {},
   "outputs": [],
   "source": [
    "numeric_columns = list(set(numeric_columns) - set(columns_to_drop))\n",
    "categorical_columns = list(set(categorical_columns) - set(columns_to_drop))"
   ]
  },
  {
   "cell_type": "code",
   "execution_count": 9,
   "metadata": {},
   "outputs": [],
   "source": [
    "testing_df = train_df.copy()\n",
    "train_x = testing_df[testing_df.columns[:-1]]\n",
    "train_y = testing_df[\"SalePrice\"].values"
   ]
  },
  {
   "cell_type": "code",
   "execution_count": 10,
   "metadata": {},
   "outputs": [],
   "source": [
    "encoder = OneHotEncoder(handle_unknown='ignore')\n",
    "temp = encoder.fit_transform(train_x[categorical_columns].values.tolist()).toarray()"
   ]
  },
  {
   "cell_type": "code",
   "execution_count": 11,
   "metadata": {},
   "outputs": [],
   "source": [
    "train_x = train_x.drop(categorical_columns, axis = 1)\n",
    "temp_df = pd.DataFrame(temp)\n",
    "train_x = pd.merge(train_x, temp_df , left_on=train_x.index, right_on = temp_df.index )"
   ]
  },
  {
   "cell_type": "code",
   "execution_count": 12,
   "metadata": {},
   "outputs": [],
   "source": [
    "from sklearn.linear_model import LinearRegression\n",
    "from sklearn.model_selection import train_test_split"
   ]
  },
  {
   "cell_type": "code",
   "execution_count": 13,
   "metadata": {},
   "outputs": [],
   "source": [
    "X,x,Y,y = train_test_split(train_x, train_y)"
   ]
  },
  {
   "cell_type": "code",
   "execution_count": 14,
   "metadata": {},
   "outputs": [
    {
     "name": "stderr",
     "output_type": "stream",
     "text": [
      "/Library/Frameworks/Python.framework/Versions/3.6/lib/python3.6/site-packages/sklearn/linear_model/_base.py:533: RuntimeWarning: internal gelsd driver lwork query error, required iwork dimension not returned. This is likely the result of LAPACK bug 0038, fixed in LAPACK 3.2.2 (released July 21, 2010). Falling back to 'gelss' driver.\n",
      "  linalg.lstsq(X, y)\n"
     ]
    },
    {
     "data": {
      "text/plain": [
       "LinearRegression(copy_X=True, fit_intercept=True, n_jobs=None, normalize=False)"
      ]
     },
     "execution_count": 14,
     "metadata": {},
     "output_type": "execute_result"
    }
   ],
   "source": [
    "model = LinearRegression()\n",
    "model.fit(X,Y)"
   ]
  },
  {
   "cell_type": "code",
   "execution_count": 17,
   "metadata": {},
   "outputs": [
    {
     "data": {
      "text/plain": [
       "0.726557104814476"
      ]
     },
     "execution_count": 17,
     "metadata": {},
     "output_type": "execute_result"
    }
   ],
   "source": [
    "model.score(x,y)"
   ]
  },
  {
   "cell_type": "code",
   "execution_count": null,
   "metadata": {},
   "outputs": [],
   "source": []
  },
  {
   "cell_type": "code",
   "execution_count": null,
   "metadata": {},
   "outputs": [],
   "source": []
  }
 ],
 "metadata": {
  "kernelspec": {
   "display_name": "Python 3",
   "language": "python",
   "name": "python3"
  },
  "language_info": {
   "codemirror_mode": {
    "name": "ipython",
    "version": 3
   },
   "file_extension": ".py",
   "mimetype": "text/x-python",
   "name": "python",
   "nbconvert_exporter": "python",
   "pygments_lexer": "ipython3",
   "version": "3.6.6"
  },
  "varInspector": {
   "cols": {
    "lenName": 16,
    "lenType": 16,
    "lenVar": 40
   },
   "kernels_config": {
    "python": {
     "delete_cmd_postfix": "",
     "delete_cmd_prefix": "del ",
     "library": "var_list.py",
     "varRefreshCmd": "print(var_dic_list())"
    },
    "r": {
     "delete_cmd_postfix": ") ",
     "delete_cmd_prefix": "rm(",
     "library": "var_list.r",
     "varRefreshCmd": "cat(var_dic_list()) "
    }
   },
   "types_to_exclude": [
    "module",
    "function",
    "builtin_function_or_method",
    "instance",
    "_Feature"
   ],
   "window_display": false
  }
 },
 "nbformat": 4,
 "nbformat_minor": 2
}
